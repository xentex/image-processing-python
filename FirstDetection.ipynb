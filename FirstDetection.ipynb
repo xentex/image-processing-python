{
  "nbformat": 4,
  "nbformat_minor": 0,
  "metadata": {
    "colab": {
      "name": "FirstDetection",
      "version": "0.3.2",
      "provenance": [],
      "include_colab_link": true
    },
    "kernelspec": {
      "name": "python3",
      "display_name": "Python 3"
    }
  },
  "cells": [
    {
      "cell_type": "markdown",
      "metadata": {
        "id": "view-in-github",
        "colab_type": "text"
      },
      "source": [
        "<a href=\"https://colab.research.google.com/github/xentex/image-processing-python/blob/master/FirstDetection.ipynb\" target=\"_parent\"><img src=\"https://colab.research.google.com/assets/colab-badge.svg\" alt=\"Open In Colab\"/></a>"
      ]
    },
    {
      "metadata": {
        "id": "lghoLCxYWM3Y",
        "colab_type": "text"
      },
      "cell_type": "markdown",
      "source": [
        "# Object Detection with 10 lines of code\n",
        "\n",
        "[لینک سایت](https://towardsdatascience.com/object-detection-with-10-lines-of-code-d6cb4d86f606)"
      ]
    },
    {
      "metadata": {
        "id": "keVjlyy1W1V_",
        "colab_type": "code",
        "colab": {}
      },
      "cell_type": "code",
      "source": [
        "!pip install tensorflow\n",
        "!pip install numpy\n",
        "!pip install scipy\n",
        "!pip install opencv-python\n",
        "!pip install matplotlib\n",
        "!pip install pillow\n",
        "!pip install h5py\n",
        "!pip install keras\n"
      ],
      "execution_count": 0,
      "outputs": []
    },
    {
      "metadata": {
        "id": "BDbydhKpBu6L",
        "colab_type": "code",
        "outputId": "457a0477-96fb-4364-8bf2-cdc7865f3f4c",
        "colab": {
          "base_uri": "https://localhost:8080/",
          "height": 55
        }
      },
      "cell_type": "code",
      "source": [
        "!pip3 install https://github.com/OlafenwaMoses/ImageAI/releases/download/2.0.2/imageai-2.0.2-py3-none-any.whl"
      ],
      "execution_count": 16,
      "outputs": [
        {
          "output_type": "stream",
          "text": [
            "Requirement already satisfied: imageai==2.0.2 from https://github.com/OlafenwaMoses/ImageAI/releases/download/2.0.2/imageai-2.0.2-py3-none-any.whl in /usr/local/lib/python3.6/dist-packages (2.0.2)\n"
          ],
          "name": "stdout"
        }
      ]
    },
    {
      "metadata": {
        "id": "KX5ZZcAaBlV7",
        "colab_type": "code",
        "colab": {}
      },
      "cell_type": "code",
      "source": [
        "!wget https://pjreddie.com/media/files/yolov3.weights"
      ],
      "execution_count": 0,
      "outputs": []
    },
    {
      "metadata": {
        "id": "mBSY3KY2OHxU",
        "colab_type": "text"
      },
      "cell_type": "markdown",
      "source": [
        "لینک دانلود\n",
        "\n",
        "https://github.com/OlafenwaMoses/ImageAI/releases/tag/1.0"
      ]
    },
    {
      "metadata": {
        "id": "YXsNWUufMslC",
        "colab_type": "code",
        "colab": {}
      },
      "cell_type": "code",
      "source": [
        "!wget https://github.com/OlafenwaMoses/ImageAI/releases/download/1.0/resnet50_coco_best_v2.0.1.h5"
      ],
      "execution_count": 0,
      "outputs": []
    },
    {
      "metadata": {
        "id": "vi5bw6mGJFYT",
        "colab_type": "code",
        "colab": {}
      },
      "cell_type": "code",
      "source": [
        "from imageai.Detection import ObjectDetection\n",
        "import os\n",
        "\n",
        "execution_path = os.getcwd()"
      ],
      "execution_count": 0,
      "outputs": []
    },
    {
      "metadata": {
        "id": "dl3HtAJeWfbg",
        "colab_type": "text"
      },
      "cell_type": "markdown",
      "source": [
        "### نکته: عکس مطابق نام گذاری زیر باید در کولب آپلود شود"
      ]
    },
    {
      "metadata": {
        "id": "YYOY-ChmZKx9",
        "colab_type": "code",
        "outputId": "5447a2c8-2cda-496d-c2ad-6d89d4db0a01",
        "colab": {
          "base_uri": "https://localhost:8080/",
          "height": 181
        }
      },
      "cell_type": "code",
      "source": [
        "detector = ObjectDetection()\n",
        "detector.setModelTypeAsRetinaNet()\n",
        "detector.setModelPath( os.path.join(execution_path , \"resnet50_coco_best_v2.0.1.h5\"))\n",
        "detector.loadModel()\n",
        "detections = detector.detectObjectsFromImage(input_image=os.path.join(execution_path , \"image4.jpeg\"), output_image_path=os.path.join(execution_path , \"imagenew.jpg\"))\n",
        "\n",
        "for eachObject in detections:\n",
        "    print(eachObject[\"name\"] , \" : \" , eachObject[\"percentage_probability\"] )\n"
      ],
      "execution_count": 31,
      "outputs": [
        {
          "output_type": "stream",
          "text": [
            "person  :  76.7254114151001\n",
            "person  :  87.9282534122467\n",
            "laptop  :  88.50436210632324\n",
            "person  :  81.73782229423523\n",
            "person  :  86.47788763046265\n",
            "person  :  84.71074104309082\n",
            "person  :  92.85857677459717\n",
            "person  :  87.61192560195923\n",
            "person  :  79.59331274032593\n"
          ],
          "name": "stdout"
        }
      ]
    },
    {
      "metadata": {
        "id": "X0_RYLy5U8fN",
        "colab_type": "text"
      },
      "cell_type": "markdown",
      "source": [
        "\n",
        "\n",
        "---\n",
        "\n",
        "\n",
        "# Exmaple 2"
      ]
    },
    {
      "metadata": {
        "id": "GqJ8ihLaOqVc",
        "colab_type": "code",
        "colab": {}
      },
      "cell_type": "code",
      "source": [
        "from imageai.Detection import ObjectDetection\n",
        "import os\n",
        "\n",
        "execution_path = os.getcwd()"
      ],
      "execution_count": 0,
      "outputs": []
    },
    {
      "metadata": {
        "id": "3yoeNRUzPDEP",
        "colab_type": "code",
        "colab": {}
      },
      "cell_type": "code",
      "source": [
        "detector = ObjectDetection()\n",
        "detector.setModelTypeAsRetinaNet()\n",
        "detector.setModelPath( os.path.join(execution_path , \"resnet50_coco_best_v2.0.1.h5\"))\n",
        "detector.loadModel()\n",
        "detections = detector.detectObjectsFromImage(input_image=os.path.join(execution_path , \"image5.jpeg\"), output_image_path=os.path.join(execution_path , \"imagenew5.jpg\"))"
      ],
      "execution_count": 0,
      "outputs": []
    },
    {
      "metadata": {
        "id": "bj-faFHKPS3i",
        "colab_type": "code",
        "colab": {
          "base_uri": "https://localhost:8080/",
          "height": 290
        },
        "outputId": "5d39d1b6-cd46-460f-8488-d2e565ea0058"
      },
      "cell_type": "code",
      "source": [
        "for eachObject in detections:\n",
        "    print(eachObject[\"name\"] , \" : \" , eachObject[\"percentage_probability\"] )"
      ],
      "execution_count": 34,
      "outputs": [
        {
          "output_type": "stream",
          "text": [
            "person  :  60.226643085479736\n",
            "person  :  71.20248675346375\n",
            "person  :  80.54105043411255\n",
            "person  :  73.2465386390686\n",
            "person  :  71.9196081161499\n",
            "person  :  62.16956377029419\n",
            "person  :  70.88892459869385\n",
            "person  :  79.59566116333008\n",
            "person  :  76.43311023712158\n",
            "person  :  80.28262257575989\n",
            "person  :  88.4696364402771\n",
            "person  :  83.42584371566772\n",
            "person  :  95.16116380691528\n",
            "person  :  93.7384843826294\n",
            "person  :  89.98676538467407\n"
          ],
          "name": "stdout"
        }
      ]
    },
    {
      "metadata": {
        "id": "rvTQR1gDPmCl",
        "colab_type": "code",
        "colab": {}
      },
      "cell_type": "code",
      "source": [
        "detections, extracted_images = detector.detectObjectsFromImage(input_image=os.path.join(execution_path , \"image.jpg\"), output_image_path=os.path.join(execution_path , \"imagenew.jpg\"), extract_detected_objects=True)\n"
      ],
      "execution_count": 0,
      "outputs": []
    }
  ]
}